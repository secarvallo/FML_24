{
 "cells": [
  {
   "cell_type": "markdown",
   "metadata": {
    "id": "Ec4rRV7zFeh4"
   },
   "source": [
    "<img src='https://upload.wikimedia.org/wikipedia/commons/thumb/a/aa/Logo_DuocUC.svg/2560px-Logo_DuocUC.svg.png' width=50%, height=20%>"
   ]
  },
  {
   "metadata": {},
   "cell_type": "markdown",
   "source": [
    "## Codificación de variables categóricas\n",
    "\n",
    "Para poder usar columnas categóricas en un modelo, es necesario transformar las etiquetas de las categorias en alguna representación numérica. Existen varias formas de hacer este proceso, algunas básicas son:\n",
    "\n",
    "Sea una variable categórica con $K$ clases distintas:\n",
    "\n",
    "1. **Binary Encoding:** Genera $K-1$ columnas binarias.\n",
    "2. **One-Hot encoding:** Genera $K$ columnas binarias. Cada columna representa la presencia o ausencia de una de las clases.\n",
    "3. **Label Encoding:** Genera $1$ sola columna y asiga un numero entero natural a cada clase.\n",
    "\n",
    "En primer lugar utilizaremos **One-Hot Encoding**, crearemos $5$ columnas, una para cada continente, cuando la columna que representa al continente \"Oceania\" por ejemplo, tome el valor $1$, quiere decir que el correspondiente registro tiene la etiqueta 'Oceania' en su columna de region."
   ]
  },
  {
   "cell_type": "code",
   "metadata": {
    "id": "begRpHHg9L0u",
    "ExecuteTime": {
     "end_time": "2024-06-08T02:09:43.077502Z",
     "start_time": "2024-06-08T02:09:42.632134Z"
    }
   },
   "source": [
    "# Importación de librerías\n",
    "import pandas as pd\n",
    "import numpy as np\n",
    "\n",
    "import category_encoders as ce\n",
    "naciones = pd.read_csv('nations.csv', sep=',', encoding='utf-8')"
   ],
   "outputs": [],
   "execution_count": 1
  },
  {
   "cell_type": "code",
   "metadata": {
    "id": "g_x7I0MU_AnQ",
    "ExecuteTime": {
     "end_time": "2024-06-02T23:44:04.520238Z",
     "start_time": "2024-06-02T23:44:04.508322Z"
    }
   },
   "source": "df.head()",
   "outputs": [
    {
     "data": {
      "text/plain": [
       "   ID       country  region           gdp    school      adfert  chldmort  \\\n",
       "0   1       Algeria  Africa   7300.399902  6.716667    7.300000     34.75   \n",
       "1   2         Benin  Africa   1338.800049  3.100000  111.699997    122.75   \n",
       "2   3      Botswana  Africa  12307.400391  8.600000   52.099998     60.25   \n",
       "3   4  Burkina Faso  Africa   1063.400024  1.300000  124.800003    170.50   \n",
       "4   5       Burundi  Africa    349.200012  2.483333   18.600000    168.50   \n",
       "\n",
       "        life       pop      urban  femlab   literacy   co2       gini  \n",
       "0  72.316666  34172236  64.933334  0.4522  72.599998  15.0        NaN  \n",
       "1  54.733334   8237634  41.000000  0.8482  41.700001   1.2        NaN  \n",
       "2  52.250000   1941233  59.250000  0.8870  84.099998   9.2        NaN  \n",
       "3  53.783333  15308383  23.583334  0.8584  23.600000   0.2        NaN  \n",
       "4  48.866665   7821783  10.250000  1.0344  66.599998   0.1  33.299999  "
      ],
      "text/html": [
       "<div>\n",
       "<style scoped>\n",
       "    .dataframe tbody tr th:only-of-type {\n",
       "        vertical-align: middle;\n",
       "    }\n",
       "\n",
       "    .dataframe tbody tr th {\n",
       "        vertical-align: top;\n",
       "    }\n",
       "\n",
       "    .dataframe thead th {\n",
       "        text-align: right;\n",
       "    }\n",
       "</style>\n",
       "<table border=\"1\" class=\"dataframe\">\n",
       "  <thead>\n",
       "    <tr style=\"text-align: right;\">\n",
       "      <th></th>\n",
       "      <th>ID</th>\n",
       "      <th>country</th>\n",
       "      <th>region</th>\n",
       "      <th>gdp</th>\n",
       "      <th>school</th>\n",
       "      <th>adfert</th>\n",
       "      <th>chldmort</th>\n",
       "      <th>life</th>\n",
       "      <th>pop</th>\n",
       "      <th>urban</th>\n",
       "      <th>femlab</th>\n",
       "      <th>literacy</th>\n",
       "      <th>co2</th>\n",
       "      <th>gini</th>\n",
       "    </tr>\n",
       "  </thead>\n",
       "  <tbody>\n",
       "    <tr>\n",
       "      <th>0</th>\n",
       "      <td>1</td>\n",
       "      <td>Algeria</td>\n",
       "      <td>Africa</td>\n",
       "      <td>7300.399902</td>\n",
       "      <td>6.716667</td>\n",
       "      <td>7.300000</td>\n",
       "      <td>34.75</td>\n",
       "      <td>72.316666</td>\n",
       "      <td>34172236</td>\n",
       "      <td>64.933334</td>\n",
       "      <td>0.4522</td>\n",
       "      <td>72.599998</td>\n",
       "      <td>15.0</td>\n",
       "      <td>NaN</td>\n",
       "    </tr>\n",
       "    <tr>\n",
       "      <th>1</th>\n",
       "      <td>2</td>\n",
       "      <td>Benin</td>\n",
       "      <td>Africa</td>\n",
       "      <td>1338.800049</td>\n",
       "      <td>3.100000</td>\n",
       "      <td>111.699997</td>\n",
       "      <td>122.75</td>\n",
       "      <td>54.733334</td>\n",
       "      <td>8237634</td>\n",
       "      <td>41.000000</td>\n",
       "      <td>0.8482</td>\n",
       "      <td>41.700001</td>\n",
       "      <td>1.2</td>\n",
       "      <td>NaN</td>\n",
       "    </tr>\n",
       "    <tr>\n",
       "      <th>2</th>\n",
       "      <td>3</td>\n",
       "      <td>Botswana</td>\n",
       "      <td>Africa</td>\n",
       "      <td>12307.400391</td>\n",
       "      <td>8.600000</td>\n",
       "      <td>52.099998</td>\n",
       "      <td>60.25</td>\n",
       "      <td>52.250000</td>\n",
       "      <td>1941233</td>\n",
       "      <td>59.250000</td>\n",
       "      <td>0.8870</td>\n",
       "      <td>84.099998</td>\n",
       "      <td>9.2</td>\n",
       "      <td>NaN</td>\n",
       "    </tr>\n",
       "    <tr>\n",
       "      <th>3</th>\n",
       "      <td>4</td>\n",
       "      <td>Burkina Faso</td>\n",
       "      <td>Africa</td>\n",
       "      <td>1063.400024</td>\n",
       "      <td>1.300000</td>\n",
       "      <td>124.800003</td>\n",
       "      <td>170.50</td>\n",
       "      <td>53.783333</td>\n",
       "      <td>15308383</td>\n",
       "      <td>23.583334</td>\n",
       "      <td>0.8584</td>\n",
       "      <td>23.600000</td>\n",
       "      <td>0.2</td>\n",
       "      <td>NaN</td>\n",
       "    </tr>\n",
       "    <tr>\n",
       "      <th>4</th>\n",
       "      <td>5</td>\n",
       "      <td>Burundi</td>\n",
       "      <td>Africa</td>\n",
       "      <td>349.200012</td>\n",
       "      <td>2.483333</td>\n",
       "      <td>18.600000</td>\n",
       "      <td>168.50</td>\n",
       "      <td>48.866665</td>\n",
       "      <td>7821783</td>\n",
       "      <td>10.250000</td>\n",
       "      <td>1.0344</td>\n",
       "      <td>66.599998</td>\n",
       "      <td>0.1</td>\n",
       "      <td>33.299999</td>\n",
       "    </tr>\n",
       "  </tbody>\n",
       "</table>\n",
       "</div>"
      ]
     },
     "execution_count": 17,
     "metadata": {},
     "output_type": "execute_result"
    }
   ],
   "execution_count": 17
  },
  {
   "cell_type": "code",
   "metadata": {
    "id": "DC0kJ7IdGGnd",
    "ExecuteTime": {
     "end_time": "2024-06-02T23:44:07.541547Z",
     "start_time": "2024-06-02T23:44:07.537957Z"
    }
   },
   "source": [
    "naciones.shape"
   ],
   "outputs": [
    {
     "data": {
      "text/plain": [
       "(194, 14)"
      ]
     },
     "execution_count": 18,
     "metadata": {},
     "output_type": "execute_result"
    }
   ],
   "execution_count": 18
  },
  {
   "cell_type": "code",
   "metadata": {
    "id": "mPkwArc0GKb9",
    "ExecuteTime": {
     "end_time": "2024-06-02T23:44:09.921301Z",
     "start_time": "2024-06-02T23:44:09.910305Z"
    }
   },
   "source": [
    "naciones.info()"
   ],
   "outputs": [
    {
     "name": "stdout",
     "output_type": "stream",
     "text": [
      "<class 'pandas.core.frame.DataFrame'>\n",
      "RangeIndex: 194 entries, 0 to 193\n",
      "Data columns (total 14 columns):\n",
      " #   Column    Non-Null Count  Dtype  \n",
      "---  ------    --------------  -----  \n",
      " 0   ID        194 non-null    int64  \n",
      " 1   country   194 non-null    object \n",
      " 2   region    194 non-null    object \n",
      " 3   gdp       179 non-null    float64\n",
      " 4   school    188 non-null    float64\n",
      " 5   adfert    194 non-null    float64\n",
      " 6   chldmort  193 non-null    float64\n",
      " 7   life      194 non-null    float64\n",
      " 8   pop       194 non-null    int64  \n",
      " 9   urban     194 non-null    float64\n",
      " 10  femlab    177 non-null    float64\n",
      " 11  literacy  135 non-null    float64\n",
      " 12  co2       185 non-null    float64\n",
      " 13  gini      81 non-null     float64\n",
      "dtypes: float64(10), int64(2), object(2)\n",
      "memory usage: 21.3+ KB\n"
     ]
    }
   ],
   "execution_count": 19
  },
  {
   "cell_type": "code",
   "metadata": {
    "id": "-rT-ggZS_CoS",
    "ExecuteTime": {
     "end_time": "2024-06-02T23:44:19.396205Z",
     "start_time": "2024-06-02T23:44:19.390886Z"
    }
   },
   "source": [
    "naciones.region.value_counts()"
   ],
   "outputs": [
    {
     "data": {
      "text/plain": [
       "region\n",
       "Africa      52\n",
       "Asia        49\n",
       "Europe      43\n",
       "Americas    35\n",
       "Oceania     15\n",
       "Name: count, dtype: int64"
      ]
     },
     "execution_count": 20,
     "metadata": {},
     "output_type": "execute_result"
    }
   ],
   "execution_count": 20
  },
  {
   "cell_type": "code",
   "metadata": {
    "id": "OAJSZmBNIFeY",
    "ExecuteTime": {
     "end_time": "2024-06-08T02:10:05.020641Z",
     "start_time": "2024-06-08T02:10:05.016634Z"
    }
   },
   "source": [
    "naciones_ce = naciones.copy()\n",
    "naciones_he = naciones.copy()\n",
    "naciones_le = naciones.copy()"
   ],
   "outputs": [],
   "execution_count": 3
  },
  {
   "cell_type": "markdown",
   "metadata": {
    "id": "NhnhltlPTIbo"
   },
   "source": [
    "### **Binary Encoding**\n",
    "\n",
    "Esta técnica no es tan intuitiva como las anteriores. Ya que, primero se codifican las categorías como ordinales, luego esos enteros se convierten en código binario, y después los dígitos de esa cadena binaria se dividen en columnas separadas. Así se codifican los datos en menos dimensiones que con un solo punto.\n",
    "\n",
    "Puedes hacer la codificación binaria de varias maneras, pero la más sencilla es usar la biblioteca category_encoders. Puede instalar category_encoders mediante ***pip install category_encoders*** en cmd o simplemente descargar y extraer el archivo .tar.gz del sitio.\n",
    "\n",
    "Primero tienes que importar la biblioteca category_encoders después de instalarla. Invoca la función BinaryEncoder especificando las columnas que quieres codificar y luego llama al método .fit_transform() con el DataFrame como argumento."
   ]
  },
  {
   "cell_type": "code",
   "execution_count": null,
   "metadata": {
    "id": "XgLNupmLTRjZ"
   },
   "outputs": [],
   "source": [
    "encoder = ce.BinaryEncoder(cols=['region'])\n",
    "naciones_binary = encoder.fit_transform(naciones_ce)\n",
    "naciones_binary.head()"
   ]
  },
  {
   "cell_type": "markdown",
   "metadata": {
    "id": "-0YthSyOCyQI"
   },
   "source": [
    "### **One-Hot encoding**\n",
    "La estrategia básica consiste en convertir cada valor de la categoría en una nueva columna y asignarle un valor de 1 o 0 (Verdadero/Falso). Esto tiene la ventaja de no ponderar un valor indebidamente.\n",
    "\n",
    "Hay muchas bibliotecas que soportan la codificación de un solo valor, pero la más sencilla es utilizar el método .get_dummies() de pandas.\n",
    "\n",
    "Esta función se llama así porque crea variables ficticias/indicadoras (1 o 0). Hay principalmente tres argumentos importantes aquí, el primero es el DataFrame sobre el que se quiere codificar, el segundo es el argumento columnas que permite especificar las columnas sobre las que se quiere hacer la codificación, y el tercero, el argumento prefijo que permite especificar el prefijo para las nuevas columnas que se crearán después de la codificación."
   ]
  },
  {
   "cell_type": "code",
   "execution_count": 11,
   "metadata": {
    "id": "mn--66a7B08B"
   },
   "outputs": [],
   "source": [
    "# Rellenando los valores de la columna\n",
    "naciones_he['Africa'] = naciones_he['region'].replace(['Africa', 'Asia', 'Europe', 'Americas', 'Oceania'],[1,0,0,0,0])\n",
    "naciones_he['Asia'] = naciones_he['region'].replace(['Africa', 'Asia', 'Europe', 'Americas', 'Oceania'],[0,1,0,0,0])\n",
    "naciones_he['Europe'] = naciones_he['region'].replace(['Africa', 'Asia', 'Europe', 'Americas', 'Oceania'],[0,0,1,0,0])\n",
    "naciones_he['Americas'] = naciones_he['region'].replace(['Africa', 'Asia', 'Europe', 'Americas', 'Oceania'],[0,0,0,1,0])\n",
    "naciones_he['Oceania'] = naciones_he['region'].replace(['Africa', 'Asia', 'Europe', 'Americas', 'Oceania'],[0,0,0,0,1])"
   ]
  },
  {
   "cell_type": "code",
   "execution_count": null,
   "metadata": {
    "id": "6J9pkdknCJGW"
   },
   "outputs": [],
   "source": [
    "naciones_he.sample(5)"
   ]
  },
  {
   "cell_type": "code",
   "execution_count": null,
   "metadata": {
    "id": "0sFpWsSkCOv_"
   },
   "outputs": [],
   "source": [
    "# Podemos hacer lo anterior de forma muchisimo mas rapida con un loop\n",
    "for reg in naciones_he['region'].unique():\n",
    "    naciones_he[reg] = np.where(naciones_he['region'] == reg, 1, 0)\n",
    "\n",
    "naciones_he.sample(10)"
   ]
  },
  {
   "cell_type": "markdown",
   "metadata": {
    "id": "y1yPe68JDI3r"
   },
   "source": [
    "### **Label encoding**\n",
    "Otro enfoque es codificar los valores categóricos con una técnica llamada \"codificación de etiquetas\", que permite convertir cada valor de una columna en un número. Las etiquetas numéricas están siempre entre 0 y n_categorías-1.\n",
    "\n",
    "Puede realizar la codificación de etiquetas mediante los atributos .cat.codes en la columna de su DataFrame."
   ]
  },
  {
   "cell_type": "code",
   "metadata": {
    "colab": {
     "base_uri": "https://localhost:8080/"
    },
    "id": "1toABmcDC25Z",
    "outputId": "cb211f6c-86ae-4e9f-a746-adfe0cab86eb",
    "ExecuteTime": {
     "end_time": "2024-06-08T02:10:13.042397Z",
     "start_time": "2024-06-08T02:10:13.033745Z"
    }
   },
   "source": [
    "# Import label encoder\n",
    "from sklearn import preprocessing\n",
    "# label_encoder object knows how to understand word labels.\n",
    "label_encoder = preprocessing.LabelEncoder()\n",
    "  \n",
    "# Encode labels in column 'species'.\n",
    "naciones_le['region']= label_encoder.fit_transform(naciones_le['region']) \n",
    "naciones_le['region'].unique()"
   ],
   "outputs": [
    {
     "data": {
      "text/plain": [
       "array([0, 1, 2, 3, 4])"
      ]
     },
     "execution_count": 4,
     "metadata": {},
     "output_type": "execute_result"
    }
   ],
   "execution_count": 4
  },
  {
   "cell_type": "code",
   "metadata": {
    "id": "HrKMOFGUC2uj",
    "ExecuteTime": {
     "end_time": "2024-06-08T02:18:31.391227Z",
     "start_time": "2024-06-08T02:18:31.379014Z"
    }
   },
   "source": [
    "naciones_le.head()"
   ],
   "outputs": [
    {
     "data": {
      "text/plain": [
       "   ID       country  region           gdp    school      adfert  chldmort  \\\n",
       "0   1       Algeria       0   7300.399902  6.716667    7.300000     34.75   \n",
       "1   2         Benin       0   1338.800049  3.100000  111.699997    122.75   \n",
       "2   3      Botswana       0  12307.400391  8.600000   52.099998     60.25   \n",
       "3   4  Burkina Faso       0   1063.400024  1.300000  124.800003    170.50   \n",
       "4   5       Burundi       0    349.200012  2.483333   18.600000    168.50   \n",
       "\n",
       "        life       pop      urban  femlab   literacy   co2       gini  \n",
       "0  72.316666  34172236  64.933334  0.4522  72.599998  15.0        NaN  \n",
       "1  54.733334   8237634  41.000000  0.8482  41.700001   1.2        NaN  \n",
       "2  52.250000   1941233  59.250000  0.8870  84.099998   9.2        NaN  \n",
       "3  53.783333  15308383  23.583334  0.8584  23.600000   0.2        NaN  \n",
       "4  48.866665   7821783  10.250000  1.0344  66.599998   0.1  33.299999  "
      ],
      "text/html": [
       "<div>\n",
       "<style scoped>\n",
       "    .dataframe tbody tr th:only-of-type {\n",
       "        vertical-align: middle;\n",
       "    }\n",
       "\n",
       "    .dataframe tbody tr th {\n",
       "        vertical-align: top;\n",
       "    }\n",
       "\n",
       "    .dataframe thead th {\n",
       "        text-align: right;\n",
       "    }\n",
       "</style>\n",
       "<table border=\"1\" class=\"dataframe\">\n",
       "  <thead>\n",
       "    <tr style=\"text-align: right;\">\n",
       "      <th></th>\n",
       "      <th>ID</th>\n",
       "      <th>country</th>\n",
       "      <th>region</th>\n",
       "      <th>gdp</th>\n",
       "      <th>school</th>\n",
       "      <th>adfert</th>\n",
       "      <th>chldmort</th>\n",
       "      <th>life</th>\n",
       "      <th>pop</th>\n",
       "      <th>urban</th>\n",
       "      <th>femlab</th>\n",
       "      <th>literacy</th>\n",
       "      <th>co2</th>\n",
       "      <th>gini</th>\n",
       "    </tr>\n",
       "  </thead>\n",
       "  <tbody>\n",
       "    <tr>\n",
       "      <th>0</th>\n",
       "      <td>1</td>\n",
       "      <td>Algeria</td>\n",
       "      <td>0</td>\n",
       "      <td>7300.399902</td>\n",
       "      <td>6.716667</td>\n",
       "      <td>7.300000</td>\n",
       "      <td>34.75</td>\n",
       "      <td>72.316666</td>\n",
       "      <td>34172236</td>\n",
       "      <td>64.933334</td>\n",
       "      <td>0.4522</td>\n",
       "      <td>72.599998</td>\n",
       "      <td>15.0</td>\n",
       "      <td>NaN</td>\n",
       "    </tr>\n",
       "    <tr>\n",
       "      <th>1</th>\n",
       "      <td>2</td>\n",
       "      <td>Benin</td>\n",
       "      <td>0</td>\n",
       "      <td>1338.800049</td>\n",
       "      <td>3.100000</td>\n",
       "      <td>111.699997</td>\n",
       "      <td>122.75</td>\n",
       "      <td>54.733334</td>\n",
       "      <td>8237634</td>\n",
       "      <td>41.000000</td>\n",
       "      <td>0.8482</td>\n",
       "      <td>41.700001</td>\n",
       "      <td>1.2</td>\n",
       "      <td>NaN</td>\n",
       "    </tr>\n",
       "    <tr>\n",
       "      <th>2</th>\n",
       "      <td>3</td>\n",
       "      <td>Botswana</td>\n",
       "      <td>0</td>\n",
       "      <td>12307.400391</td>\n",
       "      <td>8.600000</td>\n",
       "      <td>52.099998</td>\n",
       "      <td>60.25</td>\n",
       "      <td>52.250000</td>\n",
       "      <td>1941233</td>\n",
       "      <td>59.250000</td>\n",
       "      <td>0.8870</td>\n",
       "      <td>84.099998</td>\n",
       "      <td>9.2</td>\n",
       "      <td>NaN</td>\n",
       "    </tr>\n",
       "    <tr>\n",
       "      <th>3</th>\n",
       "      <td>4</td>\n",
       "      <td>Burkina Faso</td>\n",
       "      <td>0</td>\n",
       "      <td>1063.400024</td>\n",
       "      <td>1.300000</td>\n",
       "      <td>124.800003</td>\n",
       "      <td>170.50</td>\n",
       "      <td>53.783333</td>\n",
       "      <td>15308383</td>\n",
       "      <td>23.583334</td>\n",
       "      <td>0.8584</td>\n",
       "      <td>23.600000</td>\n",
       "      <td>0.2</td>\n",
       "      <td>NaN</td>\n",
       "    </tr>\n",
       "    <tr>\n",
       "      <th>4</th>\n",
       "      <td>5</td>\n",
       "      <td>Burundi</td>\n",
       "      <td>0</td>\n",
       "      <td>349.200012</td>\n",
       "      <td>2.483333</td>\n",
       "      <td>18.600000</td>\n",
       "      <td>168.50</td>\n",
       "      <td>48.866665</td>\n",
       "      <td>7821783</td>\n",
       "      <td>10.250000</td>\n",
       "      <td>1.0344</td>\n",
       "      <td>66.599998</td>\n",
       "      <td>0.1</td>\n",
       "      <td>33.299999</td>\n",
       "    </tr>\n",
       "  </tbody>\n",
       "</table>\n",
       "</div>"
      ]
     },
     "execution_count": 5,
     "metadata": {},
     "output_type": "execute_result"
    }
   ],
   "execution_count": 5
  },
  {
   "cell_type": "code",
   "metadata": {
    "id": "YLmu_BPwF_zK",
    "ExecuteTime": {
     "end_time": "2024-06-02T23:46:12.041142Z",
     "start_time": "2024-06-02T23:46:12.036613Z"
    }
   },
   "source": [
    "naciones_le.region.unique()"
   ],
   "outputs": [
    {
     "data": {
      "text/plain": [
       "array(['Africa', 'Americas', 'Asia', 'Europe', 'Oceania'], dtype=object)"
      ]
     },
     "execution_count": 23,
     "metadata": {},
     "output_type": "execute_result"
    }
   ],
   "execution_count": 23
  }
 ],
 "metadata": {
  "colab": {
   "provenance": []
  },
  "kernelspec": {
   "display_name": "Python 3 (ipykernel)",
   "language": "python",
   "name": "python3"
  },
  "language_info": {
   "codemirror_mode": {
    "name": "ipython",
    "version": 3
   },
   "file_extension": ".py",
   "mimetype": "text/x-python",
   "name": "python",
   "nbconvert_exporter": "python",
   "pygments_lexer": "ipython3",
   "version": "3.11.7"
  }
 },
 "nbformat": 4,
 "nbformat_minor": 4
}

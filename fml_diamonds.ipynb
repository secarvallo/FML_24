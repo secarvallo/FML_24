{
 "cells": [
  {
   "cell_type": "code",
   "id": "initial_id",
   "metadata": {
    "collapsed": true,
    "ExecuteTime": {
     "end_time": "2024-05-31T21:26:35.374521Z",
     "start_time": "2024-05-31T21:26:34.529124Z"
    }
   },
   "source": [
    "import pandas as pd \n",
    "df = pd.read_csv('diamonds.csv', sep=',', encoding='utf-8')  "
   ],
   "outputs": [],
   "execution_count": 1
  },
  {
   "metadata": {
    "ExecuteTime": {
     "end_time": "2024-05-31T21:50:07.067173Z",
     "start_time": "2024-05-31T21:50:07.041840Z"
    }
   },
   "cell_type": "code",
   "source": "df.describe()",
   "id": "48c1b2332fa14e81",
   "outputs": [
    {
     "data": {
      "text/plain": [
       "         Unnamed: 0         carat         depth         table         price  \\\n",
       "count  53940.000000  53940.000000  53940.000000  53940.000000  53940.000000   \n",
       "mean   26970.500000      0.797940     61.749405     57.457184   3932.799722   \n",
       "std    15571.281097      0.474011      1.432621      2.234491   3989.439738   \n",
       "min        1.000000      0.200000     43.000000     43.000000    326.000000   \n",
       "25%    13485.750000      0.400000     61.000000     56.000000    950.000000   \n",
       "50%    26970.500000      0.700000     61.800000     57.000000   2401.000000   \n",
       "75%    40455.250000      1.040000     62.500000     59.000000   5324.250000   \n",
       "max    53940.000000      5.010000     79.000000     95.000000  18823.000000   \n",
       "\n",
       "                  x             y             z  \n",
       "count  53940.000000  53940.000000  53940.000000  \n",
       "mean       5.731157      5.734526      3.538734  \n",
       "std        1.121761      1.142135      0.705699  \n",
       "min        0.000000      0.000000      0.000000  \n",
       "25%        4.710000      4.720000      2.910000  \n",
       "50%        5.700000      5.710000      3.530000  \n",
       "75%        6.540000      6.540000      4.040000  \n",
       "max       10.740000     58.900000     31.800000  "
      ],
      "text/html": [
       "<div>\n",
       "<style scoped>\n",
       "    .dataframe tbody tr th:only-of-type {\n",
       "        vertical-align: middle;\n",
       "    }\n",
       "\n",
       "    .dataframe tbody tr th {\n",
       "        vertical-align: top;\n",
       "    }\n",
       "\n",
       "    .dataframe thead th {\n",
       "        text-align: right;\n",
       "    }\n",
       "</style>\n",
       "<table border=\"1\" class=\"dataframe\">\n",
       "  <thead>\n",
       "    <tr style=\"text-align: right;\">\n",
       "      <th></th>\n",
       "      <th>Unnamed: 0</th>\n",
       "      <th>carat</th>\n",
       "      <th>depth</th>\n",
       "      <th>table</th>\n",
       "      <th>price</th>\n",
       "      <th>x</th>\n",
       "      <th>y</th>\n",
       "      <th>z</th>\n",
       "    </tr>\n",
       "  </thead>\n",
       "  <tbody>\n",
       "    <tr>\n",
       "      <th>count</th>\n",
       "      <td>53940.000000</td>\n",
       "      <td>53940.000000</td>\n",
       "      <td>53940.000000</td>\n",
       "      <td>53940.000000</td>\n",
       "      <td>53940.000000</td>\n",
       "      <td>53940.000000</td>\n",
       "      <td>53940.000000</td>\n",
       "      <td>53940.000000</td>\n",
       "    </tr>\n",
       "    <tr>\n",
       "      <th>mean</th>\n",
       "      <td>26970.500000</td>\n",
       "      <td>0.797940</td>\n",
       "      <td>61.749405</td>\n",
       "      <td>57.457184</td>\n",
       "      <td>3932.799722</td>\n",
       "      <td>5.731157</td>\n",
       "      <td>5.734526</td>\n",
       "      <td>3.538734</td>\n",
       "    </tr>\n",
       "    <tr>\n",
       "      <th>std</th>\n",
       "      <td>15571.281097</td>\n",
       "      <td>0.474011</td>\n",
       "      <td>1.432621</td>\n",
       "      <td>2.234491</td>\n",
       "      <td>3989.439738</td>\n",
       "      <td>1.121761</td>\n",
       "      <td>1.142135</td>\n",
       "      <td>0.705699</td>\n",
       "    </tr>\n",
       "    <tr>\n",
       "      <th>min</th>\n",
       "      <td>1.000000</td>\n",
       "      <td>0.200000</td>\n",
       "      <td>43.000000</td>\n",
       "      <td>43.000000</td>\n",
       "      <td>326.000000</td>\n",
       "      <td>0.000000</td>\n",
       "      <td>0.000000</td>\n",
       "      <td>0.000000</td>\n",
       "    </tr>\n",
       "    <tr>\n",
       "      <th>25%</th>\n",
       "      <td>13485.750000</td>\n",
       "      <td>0.400000</td>\n",
       "      <td>61.000000</td>\n",
       "      <td>56.000000</td>\n",
       "      <td>950.000000</td>\n",
       "      <td>4.710000</td>\n",
       "      <td>4.720000</td>\n",
       "      <td>2.910000</td>\n",
       "    </tr>\n",
       "    <tr>\n",
       "      <th>50%</th>\n",
       "      <td>26970.500000</td>\n",
       "      <td>0.700000</td>\n",
       "      <td>61.800000</td>\n",
       "      <td>57.000000</td>\n",
       "      <td>2401.000000</td>\n",
       "      <td>5.700000</td>\n",
       "      <td>5.710000</td>\n",
       "      <td>3.530000</td>\n",
       "    </tr>\n",
       "    <tr>\n",
       "      <th>75%</th>\n",
       "      <td>40455.250000</td>\n",
       "      <td>1.040000</td>\n",
       "      <td>62.500000</td>\n",
       "      <td>59.000000</td>\n",
       "      <td>5324.250000</td>\n",
       "      <td>6.540000</td>\n",
       "      <td>6.540000</td>\n",
       "      <td>4.040000</td>\n",
       "    </tr>\n",
       "    <tr>\n",
       "      <th>max</th>\n",
       "      <td>53940.000000</td>\n",
       "      <td>5.010000</td>\n",
       "      <td>79.000000</td>\n",
       "      <td>95.000000</td>\n",
       "      <td>18823.000000</td>\n",
       "      <td>10.740000</td>\n",
       "      <td>58.900000</td>\n",
       "      <td>31.800000</td>\n",
       "    </tr>\n",
       "  </tbody>\n",
       "</table>\n",
       "</div>"
      ]
     },
     "execution_count": 27,
     "metadata": {},
     "output_type": "execute_result"
    }
   ],
   "execution_count": 27
  },
  {
   "metadata": {},
   "cell_type": "markdown",
   "source": [
    "El análisis descriptivo de los datos numéricos revela varias ideas clave sobre las características de los diamantes:\n",
    "\n",
    "Carat (Peso): Los diamantes en el conjunto de datos varían en peso desde 0.2 hasta 5.01 quilates, con un peso promedio de 0.798 quilates. La desviación estándar de 0.474 indica una dispersión considerable en los pesos de los diamantes.\n",
    "\n",
    "Depth (Profundidad): La profundidad porcentual total de los diamantes oscila entre el 43% y el 79%, con un promedio del 61.75%. La desviación estándar de 1.43 sugiere una variación moderada en la profundidad.\n",
    "\n",
    "Table (Ancho de la Tabla): El ancho de la tabla varía del 43% al 95%, con un promedio del 57.46%. La desviación estándar de 2.23 indica una amplia gama de anchos de tabla en los diamantes.\n",
    "\n",
    "\n",
    "Price (Precio): Los precios de los diamantes van desde $326 hasta $18,823, con un precio promedio de $3,932.80. La desviación estándar de $3,989.44 revela una gran dispersión en los precios, lo que sugiere una amplia variedad de calidades y características en los diamantes.\n",
    "\n",
    "Dimensiones (x, y, z): Las dimensiones de los diamantes (largo, ancho y profundidad) también muestran una variación considerable. Es interesante notar que la dimensión 'y' (ancho) tiene un valor máximo atípico de 58.9 mm, lo que podría indicar un error de datos o un diamante con una forma inusual.\n"
   ],
   "id": "a6d71b6bb19543c1"
  },
  {
   "metadata": {
    "ExecuteTime": {
     "end_time": "2024-05-31T21:49:56.485129Z",
     "start_time": "2024-05-31T21:49:56.479887Z"
    }
   },
   "cell_type": "code",
   "source": "df.dtypes",
   "id": "fc359768debbce75",
   "outputs": [
    {
     "data": {
      "text/plain": [
       "Unnamed: 0      int64\n",
       "carat         float64\n",
       "cut            object\n",
       "color          object\n",
       "clarity        object\n",
       "depth         float64\n",
       "table         float64\n",
       "price           int64\n",
       "x             float64\n",
       "y             float64\n",
       "z             float64\n",
       "dtype: object"
      ]
     },
     "execution_count": 26,
     "metadata": {},
     "output_type": "execute_result"
    }
   ],
   "execution_count": 26
  },
  {
   "metadata": {},
   "cell_type": "markdown",
   "source": [
    "Variables Numéricas: Las columnas carat, depth, table, price, x, y, y z son numéricas (float64 para valores decimales e int64 para valores enteros). Estas variables se pueden utilizar directamente para cálculos y análisis estadísticos.\n",
    "Variables Categóricas: Las columnas cut, color, y clarity son de tipo objeto, lo que sugiere que contienen valores categóricos o de texto. Estas variables requerirán codificación o transformación antes de poder ser utilizadas en modelos de aprendizaje automático."
   ],
   "id": "99ad60328141b30b"
  },
  {
   "metadata": {},
   "cell_type": "markdown",
   "source": "",
   "id": "603be1bd166a511d"
  },
  {
   "metadata": {
    "ExecuteTime": {
     "end_time": "2024-05-31T23:33:11.294688Z",
     "start_time": "2024-05-31T23:33:11.272174Z"
    }
   },
   "cell_type": "code",
   "source": [
    "columns= ['carat', 'depth', 'table', 'price', 'x', 'y', 'z'] \n",
    "\n",
    "filtered_df = df[columns]\n",
    "\n",
    "mean = filtered_df.mean().reset_index().round(3)\n",
    "median = filtered_df.median().reset_index()\n",
    "mode = filtered_df.mode().iloc[0].reset_index()\n",
    "\n",
    "# Renombrar columnas\n",
    "mean = mean.rename(columns={'index':'Variable',0:'Valor'})\n",
    "median = median.rename(columns={'index':'Variable',0:'Valor'})\n",
    "mode = mode.rename(columns={'index':'Variable',0:'Valor'})\n",
    "\n",
    "mean['Statistic'] = 'Media'\n",
    "median['Statistic'] = 'Mediana'\n",
    "mode['Statistic'] = 'Moda'\n",
    "\n",
    "merged_df = pd.concat([mean, median, mode])\n",
    "\n",
    "pivoted_df = merged_df.pivot(index='Variable', columns='Statistic', values='Valor').reset_index()\n",
    "\n",
    "print(pivoted_df.to_markdown(index=True, numalign='left', stralign='center'))\n"
   ],
   "id": "748f47843f0daebb",
   "outputs": [
    {
     "name": "stdout",
     "output_type": "stream",
     "text": [
      "|    |  Variable  | Media   | Mediana   | Moda   |\n",
      "|:---|:----------:|:--------|:----------|:-------|\n",
      "| 0  |   carat    | 0.798   | 0.7       | 0.3    |\n",
      "| 1  |   depth    | 61.749  | 61.8      | 62     |\n",
      "| 2  |   price    | 3932.8  | 2401      | 605    |\n",
      "| 3  |   table    | 57.457  | 57        | 56     |\n",
      "| 4  |     x      | 5.731   | 5.7       | 4.37   |\n",
      "| 5  |     y      | 5.735   | 5.71      | 4.34   |\n",
      "| 6  |     z      | 3.539   | 3.53      | 2.7    |\n"
     ]
    }
   ],
   "execution_count": 70
  },
  {
   "metadata": {
    "ExecuteTime": {
     "end_time": "2024-05-31T23:24:35.377804Z",
     "start_time": "2024-05-31T23:24:35.362460Z"
    }
   },
   "cell_type": "code",
   "source": [
    "columns= ['carat', 'depth', 'table', 'price', 'x', 'y', 'z']\n",
    "\n",
    "filtered_df = df[columns]\n",
    "\n",
    "minimo = filtered_df.min().reset_index()\n",
    "maximo = filtered_df.max().reset_index()\n",
    "\n",
    "minimo = minimo.rename(columns={'index':'Variable',0:'Valor'})\n",
    "maximo = maximo.rename(columns={'index':'Variable',0:'Valor'})\n",
    "\n",
    "# Add a column called `Statistic` to both `minimo` and `maximo` dataframes\n",
    "minimo['Statistic'] = 'Minimo'\n",
    "maximo['Statistic'] = 'Maximo'\n",
    "\n",
    "# Concatenate the dataframes vertically\n",
    "merged_df = pd.concat([minimo, maximo])\n",
    "\n",
    "# Pivot the dataframe to have `Statistic` as columns and `Variable` as the index\n",
    "pivoted_df = merged_df.pivot(index='Variable', columns='Statistic', values='Valor').reset_index()\n",
    "\n",
    "# Print the pivoted dataframe in markdown format\n",
    "print(pivoted_df.to_markdown(index=True, numalign=\"left\", stralign=\"left\"))"
   ],
   "id": "ef66004d3b8516cb",
   "outputs": [
    {
     "name": "stdout",
     "output_type": "stream",
     "text": [
      "|    | Variable   | Maximo   | Minimo   |\n",
      "|:---|:-----------|:---------|:---------|\n",
      "| 0  | carat      | 5.01     | 0.2      |\n",
      "| 1  | depth      | 79       | 43       |\n",
      "| 2  | price      | 18823    | 326      |\n",
      "| 3  | table      | 95       | 43       |\n",
      "| 4  | x          | 10.74    | 0        |\n",
      "| 5  | y          | 58.9     | 0        |\n",
      "| 6  | z          | 31.8     | 0        |\n"
     ]
    }
   ],
   "execution_count": 63
  },
  {
   "metadata": {
    "ExecuteTime": {
     "end_time": "2024-06-01T00:15:09.329914Z",
     "start_time": "2024-06-01T00:15:09.313241Z"
    }
   },
   "cell_type": "code",
   "source": [
    "import pandas as pd\n",
    "\n",
    "# Assuming df is already defined\n",
    "columns = ['carat', 'depth', 'table', 'price', 'x', 'y', 'z']\n",
    "filtered_df = df[columns]\n",
    "\n",
    "std = filtered_df.std().reset_index()\n",
    "quartiles = filtered_df.quantile([0.25, 0.75])\n",
    "iqr = quartiles.loc[0.75] - quartiles.loc[0.25]\n",
    "\n",
    "std = std.rename(columns={'index':'Variable', 0:'Valor'})\n",
    "iqr = iqr.reset_index().rename(columns={'index':'Variable', 0:'Valor'})\n",
    "\n",
    "std['Statistic'] = 'Desviación Estándar'\n",
    "iqr['Statistic'] = 'Rango Interquartil'\n",
    "\n",
    "merged_df = pd.concat([std, iqr])\n",
    "\n",
    "pivoted_df = merged_df.pivot(index='Variable', columns='Statistic', values='Valor').reset_index()\n",
    "\n",
    "print(pivoted_df.to_markdown(index=True, numalign=\"left\", stralign=\"left\"))\n",
    "\n",
    "\n",
    "\n",
    "\n"
   ],
   "id": "a9bbcb2ff04ceddf",
   "outputs": [
    {
     "name": "stdout",
     "output_type": "stream",
     "text": [
      "|    | Variable   | Desviación Estándar   | Rango Interquartil   |\n",
      "|:---|:-----------|:----------------------|:---------------------|\n",
      "| 0  | carat      | 0.474011              | 0.64                 |\n",
      "| 1  | depth      | 1.43262               | 1.5                  |\n",
      "| 2  | price      | 3989.44               | 4374.25              |\n",
      "| 3  | table      | 2.23449               | 3                    |\n",
      "| 4  | x          | 1.12176               | 1.83                 |\n",
      "| 5  | y          | 1.14213               | 1.82                 |\n",
      "| 6  | z          | 0.705699              | 1.13                 |\n"
     ]
    }
   ],
   "execution_count": 74
  },
  {
   "metadata": {},
   "cell_type": "code",
   "outputs": [],
   "execution_count": null,
   "source": "",
   "id": "adc186ea6df74f7b"
  }
 ],
 "metadata": {
  "kernelspec": {
   "display_name": "Python 3",
   "language": "python",
   "name": "python3"
  },
  "language_info": {
   "codemirror_mode": {
    "name": "ipython",
    "version": 2
   },
   "file_extension": ".py",
   "mimetype": "text/x-python",
   "name": "python",
   "nbconvert_exporter": "python",
   "pygments_lexer": "ipython2",
   "version": "2.7.6"
  }
 },
 "nbformat": 4,
 "nbformat_minor": 5
}
